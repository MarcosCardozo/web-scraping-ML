{
 "cells": [
  {
   "cell_type": "code",
   "execution_count": 82,
   "metadata": {},
   "outputs": [],
   "source": [
    "import pandas as pd\n",
    "import requests\n",
    "from bs4 import BeautifulSoup\n",
    "from datetime import datetime"
   ]
  },
  {
   "cell_type": "code",
   "execution_count": 2,
   "metadata": {},
   "outputs": [],
   "source": [
    "url = \"https://listado.mercadolibre.com.ar/celulares-telefonos/celulares-smartphones/celulares_NoIndex_True#D[A:celulares,on]\""
   ]
  },
  {
   "cell_type": "code",
   "execution_count": 3,
   "metadata": {},
   "outputs": [],
   "source": [
    "res = requests.get(url)"
   ]
  },
  {
   "cell_type": "code",
   "execution_count": 4,
   "metadata": {},
   "outputs": [],
   "source": [
    "soup = BeautifulSoup(res.content, 'html.parser')"
   ]
  },
  {
   "cell_type": "code",
   "execution_count": 5,
   "metadata": {},
   "outputs": [],
   "source": [
    "productos = soup.find_all('div', attrs={'class':'ui-search-result__content-wrapper shops__result-content-wrapper'})"
   ]
  },
  {
   "cell_type": "code",
   "execution_count": 6,
   "metadata": {},
   "outputs": [
    {
     "data": {
      "text/plain": [
       "<div class=\"ui-search-result__content-wrapper shops__result-content-wrapper\"><div class=\"ui-search-item__highlight-label ui-search-item__highlight-label--deal_of_the_day\" style=\"background:#3483FA\"><div class=\"ui-search-item__highlight-label__container\"><label class=\"ui-search-styled-label ui-search-item__highlight-label__text\" style=\"color:#FFFFFF\">OFERTA DEL DÍA</label></div></div><div class=\"ui-search-item__group ui-search-item__group--title shops__items-group\"><span class=\"ui-search-item__brand-discoverability ui-search-item__group__element shops__items-group-details\"></span><a class=\"ui-search-item__group__element shops__items-group-details ui-search-link\" href=\"https://www.mercadolibre.com.ar/samsung-galaxy-a14-128gb-4gb-ram-negro/p/MLA22827333?pdp_filters=category:MLA1055#searchVariation=MLA22827333&amp;position=1&amp;search_layout=stack&amp;type=product&amp;tracking_id=85de9798-ff01-4f0b-9d0f-4e62d20e7bed\" title=\"Samsung Galaxy A14 128gb 4gb Ram Negro\"><h2 aria-level=\"3\" class=\"ui-search-item__title shops__item-title\">Samsung Galaxy A14 128gb 4gb Ram Negro</h2></a></div><div class=\"ui-search-result__content-columns shops__content-columns\"><div class=\"ui-search-result__content-column ui-search-result__content-column--left shops__content-columns-left\"><div class=\"ui-search-item__group ui-search-item__group--price shops__items-group\"><div class=\"ui-search-item__group__element shops__items-group-details\"><div class=\"ui-search-price ui-search-price--size-medium shops__price\"><s class=\"price-tag ui-search-price__part ui-search-price__original-value shops__price-part price-tag__disabled\"><span class=\"price-tag-text-sr-only\">Antes: 98999 pesos</span><span aria-hidden=\"true\" class=\"price-tag-amount\"><span class=\"price-tag-symbol\">$</span><span class=\"price-tag-fraction\">98.999</span></span></s><div class=\"ui-search-price__second-line shops__price-second-line\"><span class=\"price-tag ui-search-price__part shops__price-part\"><span class=\"price-tag-text-sr-only\">78999 pesos</span><span aria-hidden=\"true\" class=\"price-tag-amount\"><span class=\"price-tag-symbol\">$</span><span class=\"price-tag-fraction\">78.999</span></span></span><span class=\"ui-search-price__second-line__label shops__price-second-line__label\"><span class=\"ui-search-price__discount shops__price-discount\">20% OFF</span></span></div></div></div><span class=\"ui-search-item__group__element shops__items-group-details ui-search-installments ui-search-color--LIGHT_GREEN\">Mismo precio en 6 cuotas de $13.166</span></div><div class=\"ui-search-item__group ui-search-item__group--shipping shops__items-group\"><div class=\"ui-search-item__group__element ui-search-item__group__element--shipping shops__items-group-details\"><p class=\"ui-search-item__shipping ui-search-item__shipping--free shops__item-shipping-free\">Envío gratis</p><span class=\"ui-search-item__fulfillment\"><svg aria-label=\"full\" class=\"ui-search-icon ui-search-icon--full\" viewbox=\"0 0 100 32\" xmlns=\"http://www.w3.org/2000/svg\"><use href=\"#full\"></use></svg></span></div></div></div><div class=\"ui-search-result__content-column ui-search-result__content-column--right shops__content-columns-right ui-search-result__content-column--extra-padding\"><div class=\"ui-search-item__group ui-search-item__group--reviews shops__items-group\"><div class=\"ui-search-reviews ui-search-item__group__element shops__items-group-details\"><span class=\"andes-visually-hidden\">Calificación 4.5 de 5. 110 opiniones.</span><span aria-hidden=\"true\" class=\"ui-search-reviews__ratings\"><svg class=\"ui-search-icon ui-search-icon--star ui-search-icon--star-full\" fill=\"#3483fa\" height=\"100%\" viewbox=\"0 0 10 10\" width=\"100%\"><use href=\"#start-full\"></use></svg><svg class=\"ui-search-icon ui-search-icon--star ui-search-icon--star-full\" fill=\"#3483fa\" height=\"100%\" viewbox=\"0 0 10 10\" width=\"100%\"><use href=\"#start-full\"></use></svg><svg class=\"ui-search-icon ui-search-icon--star ui-search-icon--star-full\" fill=\"#3483fa\" height=\"100%\" viewbox=\"0 0 10 10\" width=\"100%\"><use href=\"#start-full\"></use></svg><svg class=\"ui-search-icon ui-search-icon--star ui-search-icon--star-full\" fill=\"#3483fa\" height=\"100%\" viewbox=\"0 0 10 10\" width=\"100%\"><use href=\"#start-full\"></use></svg><svg class=\"ui-search-icon ui-search-icon--star ui-search-icon--star-half\" fill=\"#3483fa\" height=\"100%\" viewbox=\"0 0 10 10\" width=\"100%\"><use href=\"#start-half\"></use></svg></span><span class=\"ui-search-reviews__amount\">110</span></div></div></div></div></div>"
      ]
     },
     "execution_count": 6,
     "metadata": {},
     "output_type": "execute_result"
    }
   ],
   "source": [
    "productos[0]"
   ]
  },
  {
   "cell_type": "code",
   "execution_count": 91,
   "metadata": {},
   "outputs": [],
   "source": [
    "l_productos = []\n",
    "fecha_actual = datetime.now()\n",
    "\n",
    "for producto in productos:\n",
    "    try:\n",
    "        nombre_producto = producto.find_all('h2')[0].get_text()\n",
    "        calificacion = producto.find_all('span', attrs={'class':'andes-visually-hidden'})[0].get_text()\n",
    "        precio = float(producto.find_all('span', attrs={'class':'price-tag-fraction'})[0].get_text())\n",
    "        porcentaje_descuento = float(producto.find_all('span', attrs={'class':'ui-search-price__discount shops__price-discount'})[0].get_text().replace('% OFF', ''))\n",
    "    except:\n",
    "        nombre_producto = '-'\n",
    "        calificacion = '-'\n",
    "        precio = 0\n",
    "        porcentaje_descuento = 0\n",
    "    l_productos.append([nombre_producto, calificacion, precio, porcentaje_descuento, fecha_actual.strftime('%d-%m-%Y')])\n",
    "\n",
    "df_productos = pd.DataFrame(l_productos, columns=['nombre_producto', 'calificacion', 'precio_original', 'porcentaje_descuento', 'fecha_scrp'])"
   ]
  },
  {
   "cell_type": "code",
   "execution_count": 92,
   "metadata": {},
   "outputs": [
    {
     "data": {
      "text/html": [
       "<div>\n",
       "<style scoped>\n",
       "    .dataframe tbody tr th:only-of-type {\n",
       "        vertical-align: middle;\n",
       "    }\n",
       "\n",
       "    .dataframe tbody tr th {\n",
       "        vertical-align: top;\n",
       "    }\n",
       "\n",
       "    .dataframe thead th {\n",
       "        text-align: right;\n",
       "    }\n",
       "</style>\n",
       "<table border=\"1\" class=\"dataframe\">\n",
       "  <thead>\n",
       "    <tr style=\"text-align: right;\">\n",
       "      <th></th>\n",
       "      <th>nombre_producto</th>\n",
       "      <th>calificacion</th>\n",
       "      <th>precio_original</th>\n",
       "      <th>porcentaje_descuento</th>\n",
       "      <th>fecha_scrp</th>\n",
       "    </tr>\n",
       "  </thead>\n",
       "  <tbody>\n",
       "    <tr>\n",
       "      <th>0</th>\n",
       "      <td>Samsung Galaxy A14 128gb 4gb Ram Negro</td>\n",
       "      <td>Calificación 4.5 de 5. 110 opiniones.</td>\n",
       "      <td>98.999</td>\n",
       "      <td>20.0</td>\n",
       "      <td>30-05-2023</td>\n",
       "    </tr>\n",
       "    <tr>\n",
       "      <th>1</th>\n",
       "      <td>Samsung Galaxy A23 5G 5G 128 GB  awesome black...</td>\n",
       "      <td>Calificación 4.6 de 5. 68 opiniones.</td>\n",
       "      <td>146.999</td>\n",
       "      <td>25.0</td>\n",
       "      <td>30-05-2023</td>\n",
       "    </tr>\n",
       "    <tr>\n",
       "      <th>2</th>\n",
       "      <td>ZTE Blade V40 Vita 128 GB  black 4 GB RAM</td>\n",
       "      <td>Calificación 4.8 de 5. 50 opiniones.</td>\n",
       "      <td>82.999</td>\n",
       "      <td>30.0</td>\n",
       "      <td>30-05-2023</td>\n",
       "    </tr>\n",
       "    <tr>\n",
       "      <th>3</th>\n",
       "      <td>Samsung Galaxy A54 5g 256gb 8gb Ram Awesome Wh...</td>\n",
       "      <td>Calificación 4.6 de 5. 621 opiniones.</td>\n",
       "      <td>226.999</td>\n",
       "      <td>14.0</td>\n",
       "      <td>30-05-2023</td>\n",
       "    </tr>\n",
       "    <tr>\n",
       "      <th>4</th>\n",
       "      <td>Samsung Galaxy A34 128gb 6gb Ram Awesome Graphite</td>\n",
       "      <td>Calificación 4.7 de 5. 366 opiniones.</td>\n",
       "      <td>169.999</td>\n",
       "      <td>15.0</td>\n",
       "      <td>30-05-2023</td>\n",
       "    </tr>\n",
       "  </tbody>\n",
       "</table>\n",
       "</div>"
      ],
      "text/plain": [
       "                                     nombre_producto   \n",
       "0             Samsung Galaxy A14 128gb 4gb Ram Negro  \\\n",
       "1  Samsung Galaxy A23 5G 5G 128 GB  awesome black...   \n",
       "2          ZTE Blade V40 Vita 128 GB  black 4 GB RAM   \n",
       "3  Samsung Galaxy A54 5g 256gb 8gb Ram Awesome Wh...   \n",
       "4  Samsung Galaxy A34 128gb 6gb Ram Awesome Graphite   \n",
       "\n",
       "                            calificacion  precio_original   \n",
       "0  Calificación 4.5 de 5. 110 opiniones.           98.999  \\\n",
       "1   Calificación 4.6 de 5. 68 opiniones.          146.999   \n",
       "2   Calificación 4.8 de 5. 50 opiniones.           82.999   \n",
       "3  Calificación 4.6 de 5. 621 opiniones.          226.999   \n",
       "4  Calificación 4.7 de 5. 366 opiniones.          169.999   \n",
       "\n",
       "   porcentaje_descuento  fecha_scrp  \n",
       "0                  20.0  30-05-2023  \n",
       "1                  25.0  30-05-2023  \n",
       "2                  30.0  30-05-2023  \n",
       "3                  14.0  30-05-2023  \n",
       "4                  15.0  30-05-2023  "
      ]
     },
     "execution_count": 92,
     "metadata": {},
     "output_type": "execute_result"
    }
   ],
   "source": [
    "df_productos.head()"
   ]
  },
  {
   "cell_type": "code",
   "execution_count": 1,
   "metadata": {},
   "outputs": [
    {
     "ename": "NameError",
     "evalue": "name 'df_productos' is not defined",
     "output_type": "error",
     "traceback": [
      "\u001b[1;31m---------------------------------------------------------------------------\u001b[0m",
      "\u001b[1;31mNameError\u001b[0m                                 Traceback (most recent call last)",
      "Cell \u001b[1;32mIn[1], line 1\u001b[0m\n\u001b[1;32m----> 1\u001b[0m df_productos\u001b[39m.\u001b[39msplit(\u001b[39m'\u001b[39m\u001b[39m \u001b[39m\u001b[39m'\u001b[39m)\n",
      "\u001b[1;31mNameError\u001b[0m: name 'df_productos' is not defined"
     ]
    }
   ],
   "source": [
    "df_productos.split(' ')"
   ]
  }
 ],
 "metadata": {
  "kernelspec": {
   "display_name": "Python 3",
   "language": "python",
   "name": "python3"
  },
  "language_info": {
   "codemirror_mode": {
    "name": "ipython",
    "version": 3
   },
   "file_extension": ".py",
   "mimetype": "text/x-python",
   "name": "python",
   "nbconvert_exporter": "python",
   "pygments_lexer": "ipython3",
   "version": "3.11.3"
  },
  "orig_nbformat": 4
 },
 "nbformat": 4,
 "nbformat_minor": 2
}
