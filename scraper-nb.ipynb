{
 "cells": [
  {
   "cell_type": "code",
   "execution_count": 2,
   "metadata": {},
   "outputs": [],
   "source": [
    "import pandas as pd\n",
    "import requests\n",
    "from bs4 import BeautifulSoup"
   ]
  },
  {
   "cell_type": "code",
   "execution_count": 3,
   "metadata": {},
   "outputs": [],
   "source": [
    "url = \"https://listado.mercadolibre.com.ar/celulares-telefonos/celulares-smartphones/celulares_NoIndex_True#D[A:celulares,on]\""
   ]
  },
  {
   "cell_type": "code",
   "execution_count": 4,
   "metadata": {},
   "outputs": [],
   "source": [
    "res = requests.get(url)"
   ]
  },
  {
   "cell_type": "code",
   "execution_count": 6,
   "metadata": {},
   "outputs": [],
   "source": [
    "soup = BeautifulSoup(res.content, 'html.parser')"
   ]
  },
  {
   "cell_type": "code",
   "execution_count": 7,
   "metadata": {},
   "outputs": [],
   "source": [
    "productos = soup.find_all('div', attrs={'class':'ui-search-result__content-wrapper shops__result-content-wrapper'})"
   ]
  },
  {
   "cell_type": "code",
   "execution_count": 17,
   "metadata": {},
   "outputs": [
    {
     "data": {
      "text/plain": [
       "<div class=\"ui-search-result__content-wrapper shops__result-content-wrapper\"><div class=\"ui-search-item__highlight-label ui-search-item__highlight-label--deal_of_the_day\" style=\"background:#3483FA\"><div class=\"ui-search-item__highlight-label__container\"><label class=\"ui-search-styled-label ui-search-item__highlight-label__text\" style=\"color:#FFFFFF\">OFERTA DEL DÍA</label></div></div><div class=\"ui-search-item__group ui-search-item__group--title shops__items-group\"><span class=\"ui-search-item__brand-discoverability ui-search-item__group__element shops__items-group-details\"></span><a class=\"ui-search-item__group__element shops__items-group-details ui-search-link\" href=\"https://www.mercadolibre.com.ar/samsung-galaxy-a34-128gb-6gb-ram-awesome-graphite/p/MLA22385548?pdp_filters=category:MLA1055#searchVariation=MLA22385548&amp;position=1&amp;search_layout=stack&amp;type=product&amp;tracking_id=7491ffc3-01ff-4e8c-8333-1e153536b1fe\" title=\"Samsung Galaxy A34 128gb 6gb Ram Awesome Graphite\"><h2 aria-level=\"3\" class=\"ui-search-item__title shops__item-title\">Samsung Galaxy A34 128gb 6gb Ram Awesome Graphite</h2></a><a class=\"ui-search-official-store-item__link ui-search-link\" href=\"https://tienda.mercadolibre.com.ar/samsung\"><p class=\"ui-search-official-store-label ui-search-item__group__element shops__items-group-details ui-search-color--GRAY\">Vendido por Samsung</p></a></div><div class=\"ui-search-result__content-columns shops__content-columns\"><div class=\"ui-search-result__content-column ui-search-result__content-column--left shops__content-columns-left\"><div class=\"ui-search-item__group ui-search-item__group--price shops__items-group\"><div class=\"ui-search-item__group__element shops__items-group-details\"><div class=\"ui-search-price ui-search-price--size-medium shops__price\"><s class=\"price-tag ui-search-price__part ui-search-price__original-value shops__price-part price-tag__disabled\"><span class=\"price-tag-text-sr-only\">Antes: 169999 pesos</span><span aria-hidden=\"true\" class=\"price-tag-amount\"><span class=\"price-tag-symbol\">$</span><span class=\"price-tag-fraction\">169.999</span></span></s><div class=\"ui-search-price__second-line shops__price-second-line\"><span class=\"price-tag ui-search-price__part shops__price-part\"><span class=\"price-tag-text-sr-only\">143999 pesos</span><span aria-hidden=\"true\" class=\"price-tag-amount\"><span class=\"price-tag-symbol\">$</span><span class=\"price-tag-fraction\">143.999</span></span></span><span class=\"ui-search-price__second-line__label shops__price-second-line__label\"><span class=\"ui-search-price__discount shops__price-discount\">15% OFF</span></span></div></div></div><span class=\"ui-search-item__group__element shops__items-group-details ui-search-installments ui-search-color--LIGHT_GREEN\">Mismo precio en 6 cuotas de $23.999</span></div><div class=\"ui-search-item__group ui-search-item__group--shipping shops__items-group\"><div class=\"ui-search-item__group__element ui-search-item__group__element--shipping shops__items-group-details\"><p class=\"ui-search-item__shipping ui-search-item__shipping--free shops__item-shipping-free\">Envío gratis</p><span class=\"ui-search-item__fulfillment\"><svg aria-label=\"full\" class=\"ui-search-icon ui-search-icon--full\" viewbox=\"0 0 100 32\" xmlns=\"http://www.w3.org/2000/svg\"><use href=\"#full\"></use></svg></span></div></div></div><div class=\"ui-search-result__content-column ui-search-result__content-column--right shops__content-columns-right ui-search-result__content-column--extra-padding\"><div class=\"ui-search-item__group ui-search-item__group--reviews shops__items-group\"><span class=\"ui-search-item__group__element andes-visually-hidden shops__items-group-details\">Calificación 4.7 de 5. 354 opiniones.</span><div aria-hidden=\"true\" class=\"ui-search-reviews ui-search-item__group__element shops__items-group-details\"><span class=\"ui-search-reviews__ratings\"><svg class=\"ui-search-icon ui-search-icon--star ui-search-icon--star-full\" fill=\"#3483fa\" height=\"100%\" viewbox=\"0 0 10 10\" width=\"100%\"><use href=\"#start-full\"></use></svg><svg class=\"ui-search-icon ui-search-icon--star ui-search-icon--star-full\" fill=\"#3483fa\" height=\"100%\" viewbox=\"0 0 10 10\" width=\"100%\"><use href=\"#start-full\"></use></svg><svg class=\"ui-search-icon ui-search-icon--star ui-search-icon--star-full\" fill=\"#3483fa\" height=\"100%\" viewbox=\"0 0 10 10\" width=\"100%\"><use href=\"#start-full\"></use></svg><svg class=\"ui-search-icon ui-search-icon--star ui-search-icon--star-full\" fill=\"#3483fa\" height=\"100%\" viewbox=\"0 0 10 10\" width=\"100%\"><use href=\"#start-full\"></use></svg><svg class=\"ui-search-icon ui-search-icon--star ui-search-icon--star-full\" fill=\"#3483fa\" height=\"100%\" viewbox=\"0 0 10 10\" width=\"100%\"><use href=\"#start-full\"></use></svg></span><span class=\"ui-search-reviews__amount\">354</span></div></div><div class=\"ui-search-item__group ui-search-item__group--variations-text shops__items-group\"><span class=\"ui-search-item__group__element ui-search-item__variations-text shops__items-group-details\">Disponible en 3 colores</span></div></div></div></div>"
      ]
     },
     "execution_count": 17,
     "metadata": {},
     "output_type": "execute_result"
    }
   ],
   "source": [
    "productos[0]"
   ]
  },
  {
   "cell_type": "code",
   "execution_count": null,
   "metadata": {},
   "outputs": [],
   "source": [
    "for i, producto in enumerate(productos):\n",
    "    \n",
    "    pass"
   ]
  }
 ],
 "metadata": {
  "kernelspec": {
   "display_name": "Python 3",
   "language": "python",
   "name": "python3"
  },
  "language_info": {
   "codemirror_mode": {
    "name": "ipython",
    "version": 3
   },
   "file_extension": ".py",
   "mimetype": "text/x-python",
   "name": "python",
   "nbconvert_exporter": "python",
   "pygments_lexer": "ipython3",
   "version": "3.11.3"
  },
  "orig_nbformat": 4
 },
 "nbformat": 4,
 "nbformat_minor": 2
}
